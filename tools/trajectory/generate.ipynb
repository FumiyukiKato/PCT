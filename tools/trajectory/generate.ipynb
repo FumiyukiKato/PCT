{
 "cells": [
  {
   "cell_type": "code",
   "execution_count": null,
   "id": "5c5cecd4",
   "metadata": {},
   "outputs": [],
   "source": [
    "from skmob.models.epr import DensityEPR, SpatialEPR\n",
    "import skmob\n",
    "import geopandas as gpd\n",
    "import pandas as pd\n",
    "import numpy as np\n",
    "from tqdm import tqdm_notebook as tqdm"
   ]
  },
  {
   "cell_type": "code",
   "execution_count": null,
   "id": "d07313d8",
   "metadata": {},
   "outputs": [],
   "source": [
    "# load a spatial tesellation on which to perform the simulation\n",
    "url = skmob.utils.constants.NY_COUNTIES_2011\n",
    "tessellation = gpd.read_file(url)\n",
    "# starting and end times of the simulation\n",
    "start_time = pd.to_datetime('2020/08/13 00:00:00')\n",
    "true_start_time = pd.to_datetime('2020/08/20 00:00:00')\n",
    "end_time = pd.to_datetime('2020/09/03 00:00:00')"
   ]
  },
  {
   "cell_type": "markdown",
   "id": "d508e715",
   "metadata": {},
   "source": [
    "## DensityEPR"
   ]
  },
  {
   "cell_type": "code",
   "execution_count": null,
   "id": "94676ae3",
   "metadata": {},
   "outputs": [],
   "source": [
    "## override if necessary\n",
    "class ConstantTimeDensityEPR(DensityEPR):\n",
    "    def __init__(self):\n",
    "        super().__init__()\n",
    "        \n",
    "        \n",
    "def apply_minute(tdf, minutes=10):\n",
    "    unix_minutes = minutes * 60\n",
    "    return tdf['time'].apply(lambda x: x - (x % unix_minutes))\n",
    "\n",
    "def gauusian_bridge(tdf, uid, random_state, minutes):\n",
    "    unix_minutes = minutes * 60\n",
    "    tmp_dict = {\"uid\": [], \"time\": [], \"lat\": [], \"lng\": []}\n",
    "    table_size = len(tdf)\n",
    "    for i in range(-1, table_size):\n",
    "        if (i == table_size - 1):\n",
    "            time_diff = (int(end_time.timestamp()) - tdf['time'].iloc[i])\n",
    "            curr_time = tdf['time'].iloc[i]\n",
    "            i -= 10\n",
    "        elif (i == -1):\n",
    "            time_diff = tdf['time'].iloc[0] - int(true_start_time.timestamp())\n",
    "            curr_time = int(true_start_time.timestamp())\n",
    "            i += 10\n",
    "        else:\n",
    "            time_diff = (tdf['time'].iloc[i+1] - tdf['time'].iloc[i])\n",
    "            curr_time = tdf['time'].iloc[i]\n",
    "        \n",
    "        time_times = time_diff // unix_minutes\n",
    "        lat_diff = (tdf['lat'].iloc[i+1] - tdf['lat'].iloc[i]) / (time_times*100)\n",
    "        lng_diff = (tdf['lng'].iloc[i+1] - tdf['lng'].iloc[i]) / (time_times*100)\n",
    "        \n",
    "        curr_lat = tdf['lat'].iloc[i]\n",
    "        curr_lng = tdf['lng'].iloc[i]\n",
    "        \n",
    "        random_walk = random_state.random(time_times)\n",
    "        lat_noise = random_state.normal(lat_diff, np.abs(lat_diff/10), time_times+1)\n",
    "        curr_lat += lat_noise[-1]\n",
    "        lng_noise = random_state.normal(lng_diff, np.abs(lng_diff/10), time_times+1)\n",
    "        curr_lng += lng_noise[-1]\n",
    "        \n",
    "        for j in range(time_times):\n",
    "            tmp_dict[\"uid\"].append(uid)\n",
    "            tmp_dict[\"time\"].append(curr_time)\n",
    "            tmp_dict[\"lat\"].append(curr_lat)\n",
    "            tmp_dict[\"lng\"].append(curr_lng)\n",
    "            \n",
    "            curr_time += unix_minutes\n",
    "            if random_walk[j] < 0.75:\n",
    "                curr_lat += lat_noise[j]\n",
    "                curr_lng += lng_noise[j]\n",
    "\n",
    "    df = pd.DataFrame.from_dict(tmp_dict)\n",
    "    return df\n",
    "\n",
    "def for_all_user(tdf, random_state, minutes=10):\n",
    "    df_list = []\n",
    "    for uid in tdf.groupby('uid').groups.keys():\n",
    "        df_list.append(gauusian_bridge(tdf[tdf['uid'] == uid], uid, random_state, minutes))\n",
    "    return pd.concat(df_list, axis=0)"
   ]
  },
  {
   "cell_type": "markdown",
   "id": "6d4a3fae",
   "metadata": {},
   "source": [
    "## Server data"
   ]
  },
  {
   "cell_type": "code",
   "execution_count": null,
   "id": "f5036ef2",
   "metadata": {
    "scrolled": false
   },
   "outputs": [],
   "source": [
    "agents = 10\n",
    "seed = 1\n",
    "minutes = 1\n",
    "\n",
    "state = np.random.RandomState(seed)\n",
    "start_locations = list(state.choice(list(range(0,62)), agents, True))\n",
    "depr = ConstantTimeDensityEPR()\n",
    "\n",
    "# start the simulation\n",
    "tdf = depr.generate(start_time, end_time, tessellation, relevance_column='population', n_agents=agents, random_state=seed, show_progress=True, starting_locations=start_locations)\n",
    "\n",
    "tdf = tdf[tdf['datetime'] >= true_start_time]\n",
    "tdf['time'] = tdf['datetime'].apply(lambda x: int(x.timestamp()))\n",
    "tdf['time'] = apply_minute(tdf, minutes=minutes)\n",
    "tdf = for_all_user(tdf, state, minutes)\n",
    "tdf[['time', 'lat', 'lng']].to_csv(f'NY-DensityEPR-{minutes}-{seed}-{agents}.csv', index=False)\n",
    "tdf"
   ]
  },
  {
   "cell_type": "markdown",
   "id": "e18f4f02",
   "metadata": {},
   "source": [
    "## Client data"
   ]
  },
  {
   "cell_type": "code",
   "execution_count": null,
   "id": "416d7595",
   "metadata": {
    "scrolled": true
   },
   "outputs": [],
   "source": [
    "client_size = 1000\n",
    "agents = 1\n",
    "seed = 1\n",
    "minutes = 10\n",
    "\n",
    "state = np.random.RandomState(seed)\n",
    "\n",
    "for i in tqdm(range(client_size)):\n",
    "    start_locations = list(state.choice(list(range(0,62)), agents, True))\n",
    "    depr = ConstantTimeDensityEPR()\n",
    "    # start the simulation\n",
    "    tdf = depr.generate(start_time, end_time, tessellation, relevance_column='population', n_agents=agents, random_state=seed, show_progress=True, starting_locations=start_locations)\n",
    "\n",
    "    tdf = tdf[tdf['datetime'] >= true_start_time]\n",
    "    tdf['time'] = tdf['datetime'].apply(lambda x: int(x.timestamp()))\n",
    "    tdf['time'] = apply_minute(tdf, minutes=minutes)\n",
    "    tdf = for_all_user(tdf, state, minutes)\n",
    "    tdf[['time', 'lat', 'lng']].to_csv(f'client/client-{i}-NY-DensityEPR-{minutes}-{seed}-{agents}.csv', index=False)\n",
    "tdf"
   ]
  }
 ],
 "metadata": {
  "kernelspec": {
   "display_name": "Python 3",
   "language": "python",
   "name": "python3"
  },
  "language_info": {
   "codemirror_mode": {
    "name": "ipython",
    "version": 3
   },
   "file_extension": ".py",
   "mimetype": "text/x-python",
   "name": "python",
   "nbconvert_exporter": "python",
   "pygments_lexer": "ipython3",
   "version": "3.9.1"
  }
 },
 "nbformat": 4,
 "nbformat_minor": 5
}
