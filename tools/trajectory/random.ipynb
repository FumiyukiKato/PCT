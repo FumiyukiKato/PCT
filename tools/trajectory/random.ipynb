{
 "cells": [
  {
   "cell_type": "code",
   "execution_count": 1,
   "id": "c57e6a0a",
   "metadata": {},
   "outputs": [],
   "source": [
    "import pandas as pd\n",
    "import numpy as np\n",
    "from tqdm import tqdm_notebook as tqdm"
   ]
  },
  {
   "cell_type": "code",
   "execution_count": 2,
   "id": "332055d0",
   "metadata": {},
   "outputs": [],
   "source": [
    "# starting and end times of the simulation\n",
    "start_time = int(pd.to_datetime('2020/08/20 00:00:00').timestamp())\n",
    "end_time = int(pd.to_datetime('2020/09/03 00:00:00').timestamp())\n",
    "\n",
    "MIN_lng = -75.0\n",
    "MAX_lng = -74.0\n",
    "DIFF_lng = MAX_lng - MIN_lng\n",
    "\n",
    "MIN_lat = 40.0\n",
    "MAX_lat = 41.0\n",
    "DIFF_lat = MAX_lat - MIN_lat\n",
    "\n",
    "num_of_data = (end_time - start_time) // 60\n",
    "\n",
    "num_of_client = 10\n",
    "num_of_server_data = 10"
   ]
  },
  {
   "cell_type": "markdown",
   "id": "08aec80f",
   "metadata": {},
   "source": [
    "## Random data\n",
    "- Every 1 minute\n",
    "- Uniform random sample from place\n",
    "- 1000 clients\n",
    "- 1000 data for server"
   ]
  },
  {
   "cell_type": "code",
   "execution_count": 3,
   "id": "d354cc1c",
   "metadata": {},
   "outputs": [],
   "source": [
    "def generate_one_client_random_data():\n",
    "    data = {'time': [], 'lng': [], 'lat': []}\n",
    "    \n",
    "    curr_time = start_time\n",
    "    lng_list = MIN_lng + np.random.rand(num_of_data)*DIFF_lng\n",
    "    lat_list = MIN_lat + np.random.rand(num_of_data)*DIFF_lat\n",
    "    \n",
    "    for i in range(num_of_data):\n",
    "        data['time'].append(curr_time)\n",
    "        data['lng'].append(lng_list[i])\n",
    "        data['lat'].append(lat_list[i])\n",
    "        curr_time += 60\n",
    "    return pd.DataFrame.from_dict(data)\n",
    "    \n",
    "def generate_server_random_data():\n",
    "    df_list = []\n",
    "    for i in tqdm(range(num_of_server_data)):\n",
    "        df_list.append(generate_one_client_random_data())\n",
    "    return pd.concat(df_list, axis=0)"
   ]
  },
  {
   "cell_type": "code",
   "execution_count": 4,
   "id": "0cf2fe53",
   "metadata": {
    "scrolled": true
   },
   "outputs": [
    {
     "name": "stderr",
     "output_type": "stream",
     "text": [
      "<ipython-input-4-03e568d17a08>:4: TqdmDeprecationWarning: This function will be removed in tqdm==5.0.0\n",
      "Please use `tqdm.notebook.tqdm` instead of `tqdm.tqdm_notebook`\n",
      "  for client_id in tqdm(range(num_of_client)):\n"
     ]
    },
    {
     "data": {
      "application/vnd.jupyter.widget-view+json": {
       "model_id": "fbc24961892345cc90fbd7f46433829d",
       "version_major": 2,
       "version_minor": 0
      },
      "text/plain": [
       "  0%|          | 0/10 [00:00<?, ?it/s]"
      ]
     },
     "metadata": {},
     "output_type": "display_data"
    },
    {
     "name": "stderr",
     "output_type": "stream",
     "text": [
      "<ipython-input-3-54541aa9682d>:17: TqdmDeprecationWarning: This function will be removed in tqdm==5.0.0\n",
      "Please use `tqdm.notebook.tqdm` instead of `tqdm.tqdm_notebook`\n",
      "  for i in tqdm(range(num_of_server_data)):\n"
     ]
    },
    {
     "data": {
      "application/vnd.jupyter.widget-view+json": {
       "model_id": "e4958cb20c0844d48c3cfdf30b38bb85",
       "version_major": 2,
       "version_minor": 0
      },
      "text/plain": [
       "  0%|          | 0/10 [00:00<?, ?it/s]"
      ]
     },
     "metadata": {},
     "output_type": "display_data"
    }
   ],
   "source": [
    "seed = 0\n",
    "np.random.seed(seed)\n",
    "\n",
    "for client_id in tqdm(range(num_of_client)):\n",
    "    client_df = generate_one_client_random_data()\n",
    "    client_df.to_csv(f'random/client-{client_id}-random.csv', index=False, header=False)\n",
    "\n",
    "server_df = generate_server_random_data()\n",
    "server_df.to_csv(f'random/server-14000-random.csv', index=False, header=False)"
   ]
  },
  {
   "cell_type": "code",
   "execution_count": null,
   "id": "33b653b4",
   "metadata": {},
   "outputs": [],
   "source": []
  }
 ],
 "metadata": {
  "kernelspec": {
   "display_name": "Python 3",
   "language": "python",
   "name": "python3"
  },
  "language_info": {
   "codemirror_mode": {
    "name": "ipython",
    "version": 3
   },
   "file_extension": ".py",
   "mimetype": "text/x-python",
   "name": "python",
   "nbconvert_exporter": "python",
   "pygments_lexer": "ipython3",
   "version": "3.9.1"
  }
 },
 "nbformat": 4,
 "nbformat_minor": 5
}
