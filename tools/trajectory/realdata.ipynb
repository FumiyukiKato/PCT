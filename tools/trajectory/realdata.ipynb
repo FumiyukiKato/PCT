{
 "cells": [
  {
   "cell_type": "markdown",
   "id": "34b56f14",
   "metadata": {},
   "source": [
    "# Real data\n",
    "- From [**Joras**](https://joras.csis.u-tokyo.ac.jp/)\n",
    "    - To download dataset, you need to be authenticated.\n",
    "- Tokyo\n",
    "    - https://joras.csis.u-tokyo.ac.jp/dataset/show/page/2/id/3000200800#datalist\n",
    "    - 2008 Tokyo, ID based csv #01 - #30\n",
    "    - Download to `./download/`\n",
    "    \n",
    "- Kinki\n",
    "    - https://joras.csis.u-tokyo.ac.jp/dataset/show/page/2/id/3038201000#datalist\n",
    "    - 2010 Kinki Metropolitan Area, spatially reallocated, weekday, ID based csv #01 - #09\n",
    "    - ~~2010 Kinki Metropolitan Area, spatially reallocated, holiday, ID based csv #01 - #07~~\n",
    "    - Download to `./download/`"
   ]
  },
  {
   "cell_type": "markdown",
   "id": "6b48464a",
   "metadata": {},
   "source": [
    "### 0. Extract necessary data"
   ]
  },
  {
   "cell_type": "code",
   "execution_count": 1,
   "id": "51e4d9ef",
   "metadata": {},
   "outputs": [],
   "source": [
    "import pandas as pd\n",
    "import numpy as np\n",
    "import re\n",
    "import glob\n",
    "import json\n",
    "import collections as cl\n",
    "import datetime\n",
    "from tqdm import tqdm_notebook as tqdm\n",
    "import pickle\n",
    "import random\n",
    "import shutil"
   ]
  },
  {
   "cell_type": "markdown",
   "id": "3734ab68",
   "metadata": {},
   "source": [
    "#### Tokyo\n",
    "\n",
    "One day data for 587531 unique ids\n",
    "\n",
    "```\n",
    "id_files = glob.glob(\"./download/p-csv*/*/*\")\n",
    "len(list(id_files)) => 587531\n",
    "```\n",
    "\n",
    "...\n",
    "\n",
    "\n",
    "Exception,  \n",
    "other than 1440 size."
   ]
  },
  {
   "cell_type": "code",
   "execution_count": 2,
   "id": "80095591",
   "metadata": {},
   "outputs": [],
   "source": [
    "batch_size = 1\n",
    "server_data_size = 14000\n",
    "server_data_start = 50000\n",
    "\n",
    "start = 1222819200\n",
    "end = 1222905540\n",
    "\n",
    "def process_tokyo(batch_size, start, end):\n",
    "    id_files = sorted(glob.glob(\"./download/p-csv*/*/*\"), key=extract_id)\n",
    "    \n",
    "    client_id = 1\n",
    "    batch = []\n",
    "    for filename in tqdm(id_files):\n",
    "        if client_id > server_data_start + server_data_size:\n",
    "            break\n",
    "        user_id = extract_id(filename)\n",
    "        \n",
    "        id_tokyo_df = pd.read_csv(filename, header=None)\n",
    "        id_tokyo_df = id_tokyo_df.iloc[:, 3:6]\n",
    "        id_tokyo_df.columns = [\"time\", \"long\", \"lat\"]\n",
    "        id_tokyo_df = id_tokyo_df.drop_duplicates().reset_index(drop=True)\n",
    "        dates = pd.to_datetime(id_tokyo_df['time'])\n",
    "        id_tokyo_df['time'] = (dates - pd.Timestamp(\"1970-01-01 00:00:00\")) // pd.Timedelta('1s')\n",
    "        if len(id_tokyo_df) != 1440:\n",
    "            continue\n",
    "        if id_tokyo_df['time'][0] < start or end < id_tokyo_df['time'][1439]:\n",
    "            continue\n",
    "        batch.append(id_tokyo_df)\n",
    "        \n",
    "        if client_id % batch_size == 0:\n",
    "            batch_df = pd.concat(batch, axis=0).reset_index(drop=True)\n",
    "            batch_df.to_csv('./real_data/tokyo/%d.csv' % (client_id // batch_size), mode='a', index=False, header=False)\n",
    "            del batch\n",
    "            batch = []\n",
    "        \n",
    "        client_id += 1\n",
    "    \n",
    "def extract_id(filename):\n",
    "    match_result = re.findall(r\"/(\\d+).csv\", filename)\n",
    "    assert len(match_result) == 1\n",
    "    return int(match_result[0])\n",
    "\n",
    "def make_tokyo_server_data(server_data_size):\n",
    "    id_files = sorted(glob.glob(\"./real_data/tokyo/*.csv\"), key=extract_id)\n",
    "    count = 0\n",
    "    server_df_list = []\n",
    "    for filename in tqdm(id_files):\n",
    "        if server_data_size < count:\n",
    "            break\n",
    "        user_id = extract_id(filename)\n",
    "        if user_id <= server_data_start:\n",
    "            continue\n",
    "        id_tokyo_df = pd.read_csv(filename, header=None)\n",
    "        server_df_list.append(id_tokyo_df)\n",
    "        count += 1\n",
    "    server_df = pd.concat(server_df_list, axis=0).reset_index(drop=True)\n",
    "    server_df.to_csv('./real_data/tokyo/gen/server-%d.csv' % (server_data_size), mode='a', index=False, header=False)\n",
    "    \n",
    "    \n",
    "def make_tokyo_client_data():\n",
    "    id_files = sorted(glob.glob(\"./real_data/tokyo/*.csv\"), key=extract_id)\n",
    "    for filename in tqdm(id_files):\n",
    "        user_id = extract_id(filename)\n",
    "        if user_id is None:\n",
    "            continue\n",
    "        if user_id >= server_data_start:\n",
    "            continue\n",
    "        new_path = shutil.move(filename, re.sub(r'(\\d+).csv', f'gen/client-{user_id}-tokyo.csv', filename))\n"
   ]
  },
  {
   "cell_type": "code",
   "execution_count": 3,
   "id": "da486553",
   "metadata": {
    "scrolled": false
   },
   "outputs": [
    {
     "name": "stderr",
     "output_type": "stream",
     "text": [
      "<ipython-input-2-3f3fd2a45e6e>:13: TqdmDeprecationWarning: This function will be removed in tqdm==5.0.0\n",
      "Please use `tqdm.notebook.tqdm` instead of `tqdm.tqdm_notebook`\n",
      "  for filename in tqdm(id_files):\n"
     ]
    },
    {
     "data": {
      "application/vnd.jupyter.widget-view+json": {
       "model_id": "ebb9ab72d64849e0bef6ade7cdfcebce",
       "version_major": 2,
       "version_minor": 0
      },
      "text/plain": [
       "  0%|          | 0/587531 [00:00<?, ?it/s]"
      ]
     },
     "metadata": {},
     "output_type": "display_data"
    }
   ],
   "source": [
    "process_tokyo(batch_size, start, end)"
   ]
  },
  {
   "cell_type": "code",
   "execution_count": 4,
   "id": "4d0632e7",
   "metadata": {
    "scrolled": true
   },
   "outputs": [
    {
     "name": "stderr",
     "output_type": "stream",
     "text": [
      "<ipython-input-2-3f3fd2a45e6e>:47: TqdmDeprecationWarning: This function will be removed in tqdm==5.0.0\n",
      "Please use `tqdm.notebook.tqdm` instead of `tqdm.tqdm_notebook`\n",
      "  for filename in tqdm(id_files):\n"
     ]
    },
    {
     "data": {
      "application/vnd.jupyter.widget-view+json": {
       "model_id": "c81b03c971da41adad9ec46045c2434a",
       "version_major": 2,
       "version_minor": 0
      },
      "text/plain": [
       "  0%|          | 0/64000 [00:00<?, ?it/s]"
      ]
     },
     "metadata": {},
     "output_type": "display_data"
    }
   ],
   "source": [
    "make_tokyo_server_data(server_data_size)"
   ]
  },
  {
   "cell_type": "code",
   "execution_count": 5,
   "id": "b3c53c21",
   "metadata": {},
   "outputs": [
    {
     "name": "stderr",
     "output_type": "stream",
     "text": [
      "<ipython-input-2-3f3fd2a45e6e>:62: TqdmDeprecationWarning: This function will be removed in tqdm==5.0.0\n",
      "Please use `tqdm.notebook.tqdm` instead of `tqdm.tqdm_notebook`\n",
      "  for filename in tqdm(id_files):\n"
     ]
    },
    {
     "data": {
      "application/vnd.jupyter.widget-view+json": {
       "model_id": "94f79be75bde4bb6aa5a11b25382000e",
       "version_major": 2,
       "version_minor": 0
      },
      "text/plain": [
       "  0%|          | 0/64000 [00:00<?, ?it/s]"
      ]
     },
     "metadata": {},
     "output_type": "display_data"
    }
   ],
   "source": [
    "make_tokyo_client_data()"
   ]
  },
  {
   "cell_type": "markdown",
   "id": "b392c1c9",
   "metadata": {},
   "source": [
    "#### Kinki\n",
    "\n",
    "One day data for 808794 unique ids\n",
    "\n",
    "```\n",
    "id_files = glob.glob(\"./download/00*/*.csv\")\n",
    "len(list(id_files)) => 808794\n",
    "```\n",
    "\n",
    "...\n",
    "\n",
    "\n",
    "Exception,  \n",
    "other than 1440 size."
   ]
  },
  {
   "cell_type": "code",
   "execution_count": 6,
   "id": "0f2a9ab2",
   "metadata": {},
   "outputs": [],
   "source": [
    "batch_size = 1\n",
    "server_data_size = 14000\n",
    "server_data_start = 50000\n",
    "\n",
    "start = 1285891200\n",
    "end = 1285977540\n",
    "\n",
    "def process_kinki(batch_size, start, end):\n",
    "    id_files = sorted(glob.glob(\"./download/00*/*.csv\"), key=extract_id)\n",
    "    \n",
    "    client_id = 1\n",
    "    batch = []\n",
    "    for filename in tqdm(id_files):\n",
    "        if client_id > server_data_start + server_data_size:\n",
    "            break\n",
    "        user_id = extract_id(filename)\n",
    "        \n",
    "        id_kinki_df = pd.read_csv(filename, header=None)\n",
    "        id_kinki_df = id_kinki_df.iloc[:, 3:6]\n",
    "        id_kinki_df.columns = [\"time\", \"long\", \"lat\"]\n",
    "        id_kinki_df = id_kinki_df.drop_duplicates().reset_index(drop=True)\n",
    "        dates = pd.to_datetime(id_kinki_df['time'])\n",
    "        id_kinki_df['time'] = (dates - pd.Timestamp(\"1970-01-01 00:00:00\")) // pd.Timedelta('1s')\n",
    "        \n",
    "        if len(id_kinki_df) != 1440:\n",
    "            continue\n",
    "        if id_kinki_df['time'][0] < start or end < id_kinki_df['time'][1439]:\n",
    "            continue\n",
    "\n",
    "        batch.append(id_kinki_df)\n",
    "        \n",
    "        if client_id % batch_size == 0:\n",
    "            batch_df = pd.concat(batch, axis=0).reset_index(drop=True)\n",
    "            batch_df.to_csv('./real_data/kinki/%d.csv' % (client_id // batch_size), mode='a', index=False, header=False)\n",
    "            del batch\n",
    "            batch = []\n",
    "        \n",
    "        client_id += 1\n",
    "    \n",
    "def extract_id(filename):\n",
    "    match_result = re.findall(r\"/(\\d+).csv\", filename)\n",
    "    assert len(match_result) == 1\n",
    "    return int(match_result[0])\n",
    "\n",
    "def make_kinki_server_data(server_data_size):\n",
    "    id_files = sorted(glob.glob(\"./real_data/kinki/*.csv\"), key=extract_id)\n",
    "    count = 0\n",
    "    server_df_list = []\n",
    "    for filename in tqdm(id_files):\n",
    "        if server_data_size < count:\n",
    "            break\n",
    "        user_id = extract_id(filename)\n",
    "        if user_id <= server_data_start:\n",
    "            continue\n",
    "        id_kinki_df = pd.read_csv(filename, header=None)\n",
    "        server_df_list.append(id_kinki_df)\n",
    "        count += 1\n",
    "    server_df = pd.concat(server_df_list, axis=0).reset_index(drop=True)\n",
    "    server_df.to_csv('./real_data/kinki/gen/server-%d.csv' % (server_data_size), mode='a', index=False, header=False)\n",
    "    \n",
    "    \n",
    "def make_kinki_client_data():\n",
    "    id_files = sorted(glob.glob(\"./real_data/kinki/*.csv\"), key=extract_id)\n",
    "    for filename in tqdm(id_files):\n",
    "        user_id = extract_id(filename)\n",
    "        if user_id is None:\n",
    "            continue\n",
    "        if user_id >= server_data_start:\n",
    "            continue\n",
    "        new_path = shutil.move(filename, re.sub(r'(\\d+).csv', f'gen/client-{user_id}-kinki.csv', filename))\n",
    "        "
   ]
  },
  {
   "cell_type": "code",
   "execution_count": 7,
   "id": "61258349",
   "metadata": {},
   "outputs": [
    {
     "name": "stderr",
     "output_type": "stream",
     "text": [
      "<ipython-input-6-0d19a197aede>:13: TqdmDeprecationWarning: This function will be removed in tqdm==5.0.0\n",
      "Please use `tqdm.notebook.tqdm` instead of `tqdm.tqdm_notebook`\n",
      "  for filename in tqdm(id_files):\n"
     ]
    },
    {
     "data": {
      "application/vnd.jupyter.widget-view+json": {
       "model_id": "966aaf362d9a48ccb7d42a5bf341cbea",
       "version_major": 2,
       "version_minor": 0
      },
      "text/plain": [
       "  0%|          | 0/808794 [00:00<?, ?it/s]"
      ]
     },
     "metadata": {},
     "output_type": "display_data"
    }
   ],
   "source": [
    "process_kinki(batch_size, start, end)"
   ]
  },
  {
   "cell_type": "code",
   "execution_count": 8,
   "id": "79b512b0",
   "metadata": {},
   "outputs": [
    {
     "name": "stderr",
     "output_type": "stream",
     "text": [
      "<ipython-input-6-0d19a197aede>:49: TqdmDeprecationWarning: This function will be removed in tqdm==5.0.0\n",
      "Please use `tqdm.notebook.tqdm` instead of `tqdm.tqdm_notebook`\n",
      "  for filename in tqdm(id_files):\n"
     ]
    },
    {
     "data": {
      "application/vnd.jupyter.widget-view+json": {
       "model_id": "1be7413b31f14dc88fb64a64724f39d3",
       "version_major": 2,
       "version_minor": 0
      },
      "text/plain": [
       "  0%|          | 0/64000 [00:00<?, ?it/s]"
      ]
     },
     "metadata": {},
     "output_type": "display_data"
    }
   ],
   "source": [
    "make_kinki_server_data(server_data_size)"
   ]
  },
  {
   "cell_type": "code",
   "execution_count": 9,
   "id": "4c726bd0",
   "metadata": {},
   "outputs": [
    {
     "name": "stderr",
     "output_type": "stream",
     "text": [
      "<ipython-input-6-0d19a197aede>:64: TqdmDeprecationWarning: This function will be removed in tqdm==5.0.0\n",
      "Please use `tqdm.notebook.tqdm` instead of `tqdm.tqdm_notebook`\n",
      "  for filename in tqdm(id_files):\n"
     ]
    },
    {
     "data": {
      "application/vnd.jupyter.widget-view+json": {
       "model_id": "2d75984c7c9c4d9a86c8a0a285d09f7b",
       "version_major": 2,
       "version_minor": 0
      },
      "text/plain": [
       "  0%|          | 0/64000 [00:00<?, ?it/s]"
      ]
     },
     "metadata": {},
     "output_type": "display_data"
    }
   ],
   "source": [
    "make_kinki_client_data()"
   ]
  }
 ],
 "metadata": {
  "kernelspec": {
   "display_name": "Python 3",
   "language": "python",
   "name": "python3"
  },
  "language_info": {
   "codemirror_mode": {
    "name": "ipython",
    "version": 3
   },
   "file_extension": ".py",
   "mimetype": "text/x-python",
   "name": "python",
   "nbconvert_exporter": "python",
   "pygments_lexer": "ipython3",
   "version": "3.9.1"
  }
 },
 "nbformat": 4,
 "nbformat_minor": 5
}
